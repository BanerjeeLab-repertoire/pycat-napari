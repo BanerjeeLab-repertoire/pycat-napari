{
 "cells": [
  {
   "cell_type": "code",
   "execution_count": 1,
   "metadata": {},
   "outputs": [],
   "source": [
    "# **Imports**\n",
    "import os\n",
    "import pandas as pd\n",
    "from tkinter import filedialog, Tk"
   ]
  },
  {
   "cell_type": "code",
   "execution_count": 2,
   "metadata": {},
   "outputs": [],
   "source": [
    "# **Function Definitions**\n",
    "\n",
    "def crawl_files(input_folder):\n",
    "    \"\"\"\n",
    "    Recursively gather all *_cell_df.csv and *_puncta_df.csv files in the input folder.\n",
    "\n",
    "    Parameters:\n",
    "    - input_folder (str): Path to the primary input folder.\n",
    "\n",
    "    Returns:\n",
    "    - List[str]: List of file paths that match the specified patterns.\n",
    "    \"\"\"\n",
    "    files = []\n",
    "    for root, _, filenames in os.walk(input_folder):\n",
    "        for filename in filenames:\n",
    "            if filename.endswith(\"_cell_df.csv\") or filename.endswith(\"_puncta_df.csv\"):\n",
    "                files.append(os.path.join(root, filename))\n",
    "    return files\n",
    "\n",
    "def process_cell_df(df, conversion_factor):\n",
    "    \"\"\"\n",
    "    Update specific columns in *_cell_df.csv based on the user-provided conversion factor.\n",
    "\n",
    "    Parameters:\n",
    "    - df (pd.DataFrame): DataFrame containing the cell data.\n",
    "    - conversion_factor (float): User-provided pixel-to-micron squared conversion factor.\n",
    "\n",
    "    Returns:\n",
    "    - pd.DataFrame: Updated DataFrame.\n",
    "    \"\"\"\n",
    "    try:\n",
    "        # Ensure required columns exist\n",
    "        required_columns = ['puncta_micron_area_mean', 'puncta_micron_area_std', \n",
    "                            'image_resolution_um_per_px_sq', 'area']\n",
    "        for col in required_columns:\n",
    "            if col not in df.columns:\n",
    "                raise KeyError(f\"Missing column: {col}\")\n",
    "\n",
    "        # Back-calculate pixel values from existing micron areas using old conversion factor\n",
    "        old_conversion_factor = df['image_resolution_um_per_px_sq']\n",
    "\n",
    "        # Avoid division by zero\n",
    "        if (old_conversion_factor == 0).any():\n",
    "            raise ValueError(\"Old conversion factor contains zero(s), cannot divide by zero.\")\n",
    "\n",
    "        # Update 'puncta_micron_area_mean'\n",
    "        df['puncta_micron_area_mean'] = (df['puncta_micron_area_mean'] / old_conversion_factor) * conversion_factor\n",
    "\n",
    "        # Update 'puncta_micron_area_std'\n",
    "        df['puncta_micron_area_std'] = (df['puncta_micron_area_std'] / old_conversion_factor) * conversion_factor\n",
    "\n",
    "        # Replace 'image_resolution_um_per_px_sq' with the user-provided conversion factor\n",
    "        df['image_resolution_um_per_px_sq'] = conversion_factor\n",
    "\n",
    "        # Calculate 'cell_micron_area' from 'area' and the conversion factor\n",
    "        df['cell_micron_area'] = df['area'] * conversion_factor\n",
    "\n",
    "        return df\n",
    "    except Exception as e:\n",
    "        raise e\n",
    "\n",
    "def process_puncta_df(df, conversion_factor):\n",
    "    \"\"\"\n",
    "    Update the 'micron area' column in *_puncta_df.csv based on the user-provided conversion factor.\n",
    "\n",
    "    Parameters:\n",
    "    - df (pd.DataFrame): DataFrame containing the puncta data.\n",
    "    - conversion_factor (float): User-provided pixel-to-micron squared conversion factor.\n",
    "\n",
    "    Returns:\n",
    "    - pd.DataFrame: Updated DataFrame.\n",
    "    \"\"\"\n",
    "    try:\n",
    "        # Ensure required columns exist\n",
    "        required_columns = ['micron area', 'area']\n",
    "        for col in required_columns:\n",
    "            if col not in df.columns:\n",
    "                raise KeyError(f\"Missing column: {col}\")\n",
    "\n",
    "        # Calculate 'micron area' from 'area' and the conversion factor\n",
    "        df['micron area'] = df['area'] * conversion_factor\n",
    "\n",
    "        return df\n",
    "    except Exception as e:\n",
    "        raise e\n",
    "\n",
    "def process_files(files, conversion_factor):\n",
    "    \"\"\"\n",
    "    Process and overwrite all relevant files with updated data.\n",
    "\n",
    "    Parameters:\n",
    "    - files (List[str]): List of file paths to process.\n",
    "    - conversion_factor (float): User-provided pixel-to-micron squared conversion factor.\n",
    "\n",
    "    Returns:\n",
    "    - Tuple[int, List[Tuple[str, str]]]: Number of successfully processed files and a list of skipped files with error messages.\n",
    "    \"\"\"\n",
    "    processed_count = 0\n",
    "    skipped_files = []\n",
    "\n",
    "    for file in files:\n",
    "        try:\n",
    "            df = pd.read_csv(file)\n",
    "\n",
    "            if file.endswith(\"_cell_df.csv\"):\n",
    "                df = process_cell_df(df, conversion_factor)\n",
    "            elif file.endswith(\"_puncta_df.csv\"):\n",
    "                df = process_puncta_df(df, conversion_factor)\n",
    "            else:\n",
    "                # This should not happen due to the crawling function, but added for safety\n",
    "                raise ValueError(\"File does not match expected patterns.\")\n",
    "\n",
    "            # Overwrite the original file with the updated DataFrame\n",
    "            df.to_csv(file, index=False)\n",
    "            processed_count += 1\n",
    "\n",
    "        except Exception as e:\n",
    "            skipped_files.append((file, str(e)))\n",
    "            print(f\"Error processing file {file}: {e}\")\n",
    "\n",
    "    return processed_count, skipped_files"
   ]
  },
  {
   "cell_type": "code",
   "execution_count": null,
   "metadata": {},
   "outputs": [],
   "source": []
  },
  {
   "cell_type": "code",
   "execution_count": 3,
   "metadata": {},
   "outputs": [],
   "source": [
    "pixel_resolution = 512\n",
    "micron_resolution = 50\n",
    "upscale_factor = 2"
   ]
  },
  {
   "cell_type": "code",
   "execution_count": 4,
   "metadata": {},
   "outputs": [],
   "source": [
    "microns_per_pixel_sq = (micron_resolution / (pixel_resolution*upscale_factor)) ** 2"
   ]
  },
  {
   "cell_type": "code",
   "execution_count": 5,
   "metadata": {},
   "outputs": [
    {
     "data": {
      "text/plain": [
       "0.002384185791015625"
      ]
     },
     "execution_count": 5,
     "metadata": {},
     "output_type": "execute_result"
    }
   ],
   "source": [
    "microns_per_pixel_sq"
   ]
  },
  {
   "cell_type": "code",
   "execution_count": 6,
   "metadata": {},
   "outputs": [],
   "source": [
    "#microns_per_pixel_sq = 0.00238"
   ]
  },
  {
   "cell_type": "code",
   "execution_count": null,
   "metadata": {},
   "outputs": [],
   "source": [
    "def main(conversion_factor):\n",
    "    \"\"\"\n",
    "    Main function to handle user interaction, file crawling, processing, and summarizing results.\n",
    "    \"\"\"\n",
    "    # Hide the main Tkinter window\n",
    "    root = Tk()\n",
    "    root.withdraw()\n",
    "\n",
    "    # **User Interaction**\n",
    "\n",
    "    # Prompt user to select the primary input folder\n",
    "    print(\"Please select the primary input folder containing the .csv files.\")\n",
    "    input_folder = filedialog.askdirectory(title=\"Select Input Folder\")\n",
    "\n",
    "    if not input_folder:\n",
    "        print(\"No folder selected. Exiting the script.\")\n",
    "        return\n",
    "\n",
    "    # **File Crawling and Processing**\n",
    "\n",
    "    print(\"\\nCrawling through the selected folder to find relevant .csv files...\")\n",
    "    files_to_process = crawl_files(input_folder)\n",
    "    total_files = len(files_to_process)\n",
    "    print(f\"Found {total_files} file(s) to process.\")\n",
    "\n",
    "    if total_files == 0:\n",
    "        print(\"No files matched the specified patterns. Exiting the script.\")\n",
    "        return\n",
    "\n",
    "    print(\"\\nProcessing files...\")\n",
    "    processed_count, skipped_files = process_files(files_to_process, conversion_factor)\n",
    "\n",
    "    # **Output Summary**\n",
    "\n",
    "    print(\"\\n--- Processing Complete ---\")\n",
    "    print(f\"Total files found: {total_files}\")\n",
    "    print(f\"Successfully processed: {processed_count}\")\n",
    "    print(f\"Skipped files: {len(skipped_files)}\")\n",
    "\n",
    "\n",
    "    if skipped_files:\n",
    "        print(\"\\nDetails of skipped files:\")\n",
    "        for file, error in skipped_files:\n",
    "            print(f\"- {file}: {error}\")\n"
   ]
  },
  {
   "cell_type": "code",
   "execution_count": 8,
   "metadata": {},
   "outputs": [
    {
     "name": "stdout",
     "output_type": "stream",
     "text": [
      "Please select the primary input folder containing the .csv files.\n"
     ]
    },
    {
     "name": "stderr",
     "output_type": "stream",
     "text": [
      "2024-11-19 10:20:30.373 python[41292:10847320] +[IMKClient subclass]: chose IMKClient_Legacy\n",
      "2024-11-19 10:20:30.768 python[41292:10847320] The class 'NSOpenPanel' overrides the method identifier.  This method is implemented by class 'NSWindow'\n"
     ]
    },
    {
     "name": "stdout",
     "output_type": "stream",
     "text": [
      "\n",
      "Crawling through the selected folder to find relevant .csv files...\n",
      "Found 90 file(s) to process.\n",
      "\n",
      "Processing files...\n",
      "Error processing file /Users/christian.neureuter/Library/CloudStorage/Box-Box/Banerjee_Lab_Shared_Folder/Meet/FUS-FL-GFP-Analysis/FUS-FL-(31st Oct 2024)/IM-6-FUS-FL-GFP_puncta_df.csv: 'Missing column: micron area'\n",
      "Error processing file /Users/christian.neureuter/Library/CloudStorage/Box-Box/Banerjee_Lab_Shared_Folder/Meet/FUS-FL-GFP-Analysis/FUS-FL-(31st Oct 2024)/IM-6-FUS-FL-GFP_cell_df.csv: 'Missing column: puncta_micron_area_mean'\n",
      "\n",
      "--- Processing Complete ---\n",
      "Total files found: 90\n",
      "Successfully processed: 88\n",
      "Skipped files: 2\n",
      "\n",
      "Details of skipped files:\n",
      "- /Users/christian.neureuter/Library/CloudStorage/Box-Box/Banerjee_Lab_Shared_Folder/Meet/FUS-FL-GFP-Analysis/FUS-FL-(31st Oct 2024)/IM-6-FUS-FL-GFP_puncta_df.csv: 'Missing column: micron area'\n",
      "- /Users/christian.neureuter/Library/CloudStorage/Box-Box/Banerjee_Lab_Shared_Folder/Meet/FUS-FL-GFP-Analysis/FUS-FL-(31st Oct 2024)/IM-6-FUS-FL-GFP_cell_df.csv: 'Missing column: puncta_micron_area_mean'\n"
     ]
    }
   ],
   "source": [
    "main(microns_per_pixel_sq)"
   ]
  },
  {
   "cell_type": "code",
   "execution_count": null,
   "metadata": {},
   "outputs": [],
   "source": []
  },
  {
   "cell_type": "code",
   "execution_count": null,
   "metadata": {},
   "outputs": [],
   "source": []
  },
  {
   "cell_type": "code",
   "execution_count": null,
   "metadata": {},
   "outputs": [],
   "source": []
  },
  {
   "cell_type": "code",
   "execution_count": null,
   "metadata": {},
   "outputs": [],
   "source": []
  },
  {
   "cell_type": "code",
   "execution_count": null,
   "metadata": {},
   "outputs": [],
   "source": []
  },
  {
   "cell_type": "code",
   "execution_count": null,
   "metadata": {},
   "outputs": [],
   "source": []
  },
  {
   "cell_type": "code",
   "execution_count": null,
   "metadata": {},
   "outputs": [],
   "source": []
  },
  {
   "cell_type": "code",
   "execution_count": null,
   "metadata": {},
   "outputs": [],
   "source": []
  },
  {
   "cell_type": "code",
   "execution_count": null,
   "metadata": {},
   "outputs": [],
   "source": [
    "def main():\n",
    "    \"\"\"\n",
    "    Main function to handle user interaction, file crawling, processing, and summarizing results.\n",
    "    \"\"\"\n",
    "    # Hide the main Tkinter window\n",
    "    root = Tk()\n",
    "    root.withdraw()\n",
    "\n",
    "    # **User Interaction**\n",
    "\n",
    "    # Prompt user to select the primary input folder\n",
    "    print(\"Please select the primary input folder containing the .csv files.\")\n",
    "    input_folder = filedialog.askdirectory(title=\"Select Input Folder\")\n",
    "\n",
    "    if not input_folder:\n",
    "        print(\"No folder selected. Exiting the script.\")\n",
    "        return\n",
    "\n",
    "    # Prompt user to input the pixel-to-micron squared conversion factor\n",
    "    while True:\n",
    "        try:\n",
    "            user_input = input(\"Enter the pixel-to-micron squared conversion factor (e.g., 0.25): \")\n",
    "            conversion_factor = float(user_input)\n",
    "            if conversion_factor <= 0:\n",
    "                raise ValueError(\"Conversion factor must be a positive number.\")\n",
    "            break\n",
    "        except ValueError as ve:\n",
    "            print(f\"Invalid input: {ve}. Please try again.\")\n",
    "\n",
    "    # **File Crawling and Processing**\n",
    "\n",
    "    print(\"\\nCrawling through the selected folder to find relevant .csv files...\")\n",
    "    files_to_process = crawl_files(input_folder)\n",
    "    total_files = len(files_to_process)\n",
    "    print(f\"Found {total_files} file(s) to process.\")\n",
    "\n",
    "    if total_files == 0:\n",
    "        print(\"No files matched the specified patterns. Exiting the script.\")\n",
    "        return\n",
    "\n",
    "    print(\"\\nProcessing files...\")\n",
    "    processed_count, skipped_files = process_files(files_to_process, conversion_factor)\n",
    "\n",
    "    # **Output Summary**\n",
    "\n",
    "    print(\"\\n--- Processing Complete ---\")\n",
    "    print(f\"Total files found: {total_files}\")\n",
    "    print(f\"Successfully processed: {processed_count}\")\n",
    "    print(f\"Skipped files: {len(skipped_files)}\")\n",
    "\n",
    "    if skipped_files:\n",
    "        print(\"\\nDetails of skipped files:\")\n",
    "        for file, error in skipped_files:\n",
    "            print(f\"- {file}: {error}\")\n",
    "\n",
    "# **Run the Main Function**\n",
    "\n",
    "if __name__ == \"__main__\":\n",
    "    main()\n"
   ]
  }
 ],
 "metadata": {
  "kernelspec": {
   "display_name": "devbio-syn-env",
   "language": "python",
   "name": "python3"
  },
  "language_info": {
   "codemirror_mode": {
    "name": "ipython",
    "version": 3
   },
   "file_extension": ".py",
   "mimetype": "text/x-python",
   "name": "python",
   "nbconvert_exporter": "python",
   "pygments_lexer": "ipython3",
   "version": "3.9.18"
  }
 },
 "nbformat": 4,
 "nbformat_minor": 2
}
